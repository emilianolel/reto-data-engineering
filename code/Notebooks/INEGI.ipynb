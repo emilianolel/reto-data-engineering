{
  "cells": [
    {
      "cell_type": "code",
      "execution_count": 2,
      "metadata": {
        "id": "k4B2D8epuq86"
      },
      "outputs": [],
      "source": [
        "import requests\n",
        "import json\n",
        "import pandas as pd\n",
        "from IPython.display import display"
      ]
    },
    {
      "cell_type": "code",
      "execution_count": null,
      "metadata": {
        "id": "A6kyZQAMu_yo"
      },
      "outputs": [],
      "source": []
    },
    {
      "cell_type": "code",
      "execution_count": 3,
      "metadata": {
        "id": "3MGz5V8lu29f"
      },
      "outputs": [],
      "source": [
        "request = requests.get('https://www.inegi.org.mx/app/api/indicadores/desarrolladores/jsonxml/INDICATOR/1003000011,1003000017,1003000018,1003000019/es/07000019/false/BISE/2.0/2d3b705b-34c4-a90d-5395-960213edd06d?type=json')"
      ]
    },
    {
      "cell_type": "code",
      "execution_count": 4,
      "metadata": {
        "id": "quBfxKxSvT3-"
      },
      "outputs": [],
      "source": [
        "data = request.json()"
      ]
    },
    {
      "cell_type": "code",
      "execution_count": 7,
      "metadata": {
        "colab": {
          "base_uri": "https://localhost:8080/",
          "height": 843
        },
        "id": "O1mCu4ely5a7",
        "outputId": "ffadb058-0218-435b-e107-06e662744d20"
      },
      "outputs": [
        {
          "name": "stdout",
          "output_type": "stream",
          "text": [
            "1003000011\n"
          ]
        },
        {
          "data": {
            "text/html": [
              "<div>\n",
              "<style scoped>\n",
              "    .dataframe tbody tr th:only-of-type {\n",
              "        vertical-align: middle;\n",
              "    }\n",
              "\n",
              "    .dataframe tbody tr th {\n",
              "        vertical-align: top;\n",
              "    }\n",
              "\n",
              "    .dataframe thead th {\n",
              "        text-align: right;\n",
              "    }\n",
              "</style>\n",
              "<table border=\"1\" class=\"dataframe\">\n",
              "  <thead>\n",
              "    <tr style=\"text-align: right;\">\n",
              "      <th></th>\n",
              "      <th>TIME_PERIOD</th>\n",
              "      <th>OBS_VALUE</th>\n",
              "      <th>OBS_EXCEPTION</th>\n",
              "      <th>OBS_STATUS</th>\n",
              "      <th>OBS_SOURCE</th>\n",
              "      <th>OBS_NOTE</th>\n",
              "      <th>COBER_GEO</th>\n",
              "    </tr>\n",
              "  </thead>\n",
              "  <tbody>\n",
              "    <tr>\n",
              "      <th>0</th>\n",
              "      <td>1995</td>\n",
              "      <td>790941.00000000000000000000</td>\n",
              "      <td>None</td>\n",
              "      <td>3</td>\n",
              "      <td></td>\n",
              "      <td>422</td>\n",
              "      <td>07000019</td>\n",
              "    </tr>\n",
              "    <tr>\n",
              "      <th>1</th>\n",
              "      <td>2000</td>\n",
              "      <td>878600.00000000000000000000</td>\n",
              "      <td>None</td>\n",
              "      <td>3</td>\n",
              "      <td></td>\n",
              "      <td>9</td>\n",
              "      <td>07000019</td>\n",
              "    </tr>\n",
              "    <tr>\n",
              "      <th>2</th>\n",
              "      <td>2005</td>\n",
              "      <td>994983.00000000000000000000</td>\n",
              "      <td>None</td>\n",
              "      <td>3</td>\n",
              "      <td></td>\n",
              "      <td>49</td>\n",
              "      <td>07000019</td>\n",
              "    </tr>\n",
              "    <tr>\n",
              "      <th>3</th>\n",
              "      <td>2010</td>\n",
              "      <td>1191114.00000000000000000000</td>\n",
              "      <td>None</td>\n",
              "      <td>3</td>\n",
              "      <td></td>\n",
              "      <td>115</td>\n",
              "      <td>07000019</td>\n",
              "    </tr>\n",
              "    <tr>\n",
              "      <th>4</th>\n",
              "      <td>2020</td>\n",
              "      <td>1545418.00000000000000000000</td>\n",
              "      <td>None</td>\n",
              "      <td>3</td>\n",
              "      <td></td>\n",
              "      <td></td>\n",
              "      <td>07000019</td>\n",
              "    </tr>\n",
              "  </tbody>\n",
              "</table>\n",
              "</div>"
            ],
            "text/plain": [
              "  TIME_PERIOD                     OBS_VALUE OBS_EXCEPTION OBS_STATUS  \\\n",
              "0        1995   790941.00000000000000000000          None          3   \n",
              "1        2000   878600.00000000000000000000          None          3   \n",
              "2        2005   994983.00000000000000000000          None          3   \n",
              "3        2010  1191114.00000000000000000000          None          3   \n",
              "4        2020  1545418.00000000000000000000          None          3   \n",
              "\n",
              "  OBS_SOURCE OBS_NOTE COBER_GEO  \n",
              "0                 422  07000019  \n",
              "1                   9  07000019  \n",
              "2                  49  07000019  \n",
              "3                 115  07000019  \n",
              "4                      07000019  "
            ]
          },
          "metadata": {},
          "output_type": "display_data"
        },
        {
          "name": "stdout",
          "output_type": "stream",
          "text": [
            "1003000017\n"
          ]
        },
        {
          "data": {
            "text/html": [
              "<div>\n",
              "<style scoped>\n",
              "    .dataframe tbody tr th:only-of-type {\n",
              "        vertical-align: middle;\n",
              "    }\n",
              "\n",
              "    .dataframe tbody tr th {\n",
              "        vertical-align: top;\n",
              "    }\n",
              "\n",
              "    .dataframe thead th {\n",
              "        text-align: right;\n",
              "    }\n",
              "</style>\n",
              "<table border=\"1\" class=\"dataframe\">\n",
              "  <thead>\n",
              "    <tr style=\"text-align: right;\">\n",
              "      <th></th>\n",
              "      <th>TIME_PERIOD</th>\n",
              "      <th>OBS_VALUE</th>\n",
              "      <th>OBS_EXCEPTION</th>\n",
              "      <th>OBS_STATUS</th>\n",
              "      <th>OBS_SOURCE</th>\n",
              "      <th>OBS_NOTE</th>\n",
              "      <th>COBER_GEO</th>\n",
              "    </tr>\n",
              "  </thead>\n",
              "  <tbody>\n",
              "    <tr>\n",
              "      <th>0</th>\n",
              "      <td>1995</td>\n",
              "      <td>773725.00000000000000000000</td>\n",
              "      <td>None</td>\n",
              "      <td>3</td>\n",
              "      <td></td>\n",
              "      <td>422</td>\n",
              "      <td>07000019</td>\n",
              "    </tr>\n",
              "    <tr>\n",
              "      <th>1</th>\n",
              "      <td>2000</td>\n",
              "      <td>865650.00000000000000000000</td>\n",
              "      <td>None</td>\n",
              "      <td>3</td>\n",
              "      <td></td>\n",
              "      <td>9</td>\n",
              "      <td>07000019</td>\n",
              "    </tr>\n",
              "    <tr>\n",
              "      <th>2</th>\n",
              "      <td>2005</td>\n",
              "      <td>976487.00000000000000000000</td>\n",
              "      <td>None</td>\n",
              "      <td>3</td>\n",
              "      <td></td>\n",
              "      <td>49</td>\n",
              "      <td>07000019</td>\n",
              "    </tr>\n",
              "    <tr>\n",
              "      <th>3</th>\n",
              "      <td>2010</td>\n",
              "      <td>1170401.00000000000000000000</td>\n",
              "      <td>None</td>\n",
              "      <td>3</td>\n",
              "      <td></td>\n",
              "      <td>115</td>\n",
              "      <td>07000019</td>\n",
              "    </tr>\n",
              "    <tr>\n",
              "      <th>4</th>\n",
              "      <td>2020</td>\n",
              "      <td>1645742.00000000000000000000</td>\n",
              "      <td>None</td>\n",
              "      <td>3</td>\n",
              "      <td></td>\n",
              "      <td></td>\n",
              "      <td>07000019</td>\n",
              "    </tr>\n",
              "  </tbody>\n",
              "</table>\n",
              "</div>"
            ],
            "text/plain": [
              "  TIME_PERIOD                     OBS_VALUE OBS_EXCEPTION OBS_STATUS  \\\n",
              "0        1995   773725.00000000000000000000          None          3   \n",
              "1        2000   865650.00000000000000000000          None          3   \n",
              "2        2005   976487.00000000000000000000          None          3   \n",
              "3        2010  1170401.00000000000000000000          None          3   \n",
              "4        2020  1645742.00000000000000000000          None          3   \n",
              "\n",
              "  OBS_SOURCE OBS_NOTE COBER_GEO  \n",
              "0                 422  07000019  \n",
              "1                   9  07000019  \n",
              "2                  49  07000019  \n",
              "3                 115  07000019  \n",
              "4                      07000019  "
            ]
          },
          "metadata": {},
          "output_type": "display_data"
        },
        {
          "name": "stdout",
          "output_type": "stream",
          "text": [
            "1003000018\n"
          ]
        },
        {
          "data": {
            "text/html": [
              "<div>\n",
              "<style scoped>\n",
              "    .dataframe tbody tr th:only-of-type {\n",
              "        vertical-align: middle;\n",
              "    }\n",
              "\n",
              "    .dataframe tbody tr th {\n",
              "        vertical-align: top;\n",
              "    }\n",
              "\n",
              "    .dataframe thead th {\n",
              "        text-align: right;\n",
              "    }\n",
              "</style>\n",
              "<table border=\"1\" class=\"dataframe\">\n",
              "  <thead>\n",
              "    <tr style=\"text-align: right;\">\n",
              "      <th></th>\n",
              "      <th>TIME_PERIOD</th>\n",
              "      <th>OBS_VALUE</th>\n",
              "      <th>OBS_EXCEPTION</th>\n",
              "      <th>OBS_STATUS</th>\n",
              "      <th>OBS_SOURCE</th>\n",
              "      <th>OBS_NOTE</th>\n",
              "      <th>COBER_GEO</th>\n",
              "    </tr>\n",
              "  </thead>\n",
              "  <tbody>\n",
              "    <tr>\n",
              "      <th>0</th>\n",
              "      <td>1995</td>\n",
              "      <td>733238.00000000000000000000</td>\n",
              "      <td>None</td>\n",
              "      <td>3</td>\n",
              "      <td></td>\n",
              "      <td>422</td>\n",
              "      <td>07000019</td>\n",
              "    </tr>\n",
              "    <tr>\n",
              "      <th>1</th>\n",
              "      <td>2000</td>\n",
              "      <td>821797.00000000000000000000</td>\n",
              "      <td>None</td>\n",
              "      <td>3</td>\n",
              "      <td></td>\n",
              "      <td>9</td>\n",
              "      <td>07000019</td>\n",
              "    </tr>\n",
              "    <tr>\n",
              "      <th>2</th>\n",
              "      <td>2005</td>\n",
              "      <td>940833.00000000000000000000</td>\n",
              "      <td>None</td>\n",
              "      <td>3</td>\n",
              "      <td></td>\n",
              "      <td>49</td>\n",
              "      <td>07000019</td>\n",
              "    </tr>\n",
              "    <tr>\n",
              "      <th>3</th>\n",
              "      <td>2010</td>\n",
              "      <td>1135248.00000000000000000000</td>\n",
              "      <td>None</td>\n",
              "      <td>3</td>\n",
              "      <td></td>\n",
              "      <td>115</td>\n",
              "      <td>07000019</td>\n",
              "    </tr>\n",
              "    <tr>\n",
              "      <th>4</th>\n",
              "      <td>2020</td>\n",
              "      <td>1636431.00000000000000000000</td>\n",
              "      <td>None</td>\n",
              "      <td>3</td>\n",
              "      <td></td>\n",
              "      <td></td>\n",
              "      <td>07000019</td>\n",
              "    </tr>\n",
              "  </tbody>\n",
              "</table>\n",
              "</div>"
            ],
            "text/plain": [
              "  TIME_PERIOD                     OBS_VALUE OBS_EXCEPTION OBS_STATUS  \\\n",
              "0        1995   733238.00000000000000000000          None          3   \n",
              "1        2000   821797.00000000000000000000          None          3   \n",
              "2        2005   940833.00000000000000000000          None          3   \n",
              "3        2010  1135248.00000000000000000000          None          3   \n",
              "4        2020  1636431.00000000000000000000          None          3   \n",
              "\n",
              "  OBS_SOURCE OBS_NOTE COBER_GEO  \n",
              "0                 422  07000019  \n",
              "1                   9  07000019  \n",
              "2                  49  07000019  \n",
              "3                 115  07000019  \n",
              "4                      07000019  "
            ]
          },
          "metadata": {},
          "output_type": "display_data"
        },
        {
          "name": "stdout",
          "output_type": "stream",
          "text": [
            "1003000019\n"
          ]
        },
        {
          "data": {
            "text/html": [
              "<div>\n",
              "<style scoped>\n",
              "    .dataframe tbody tr th:only-of-type {\n",
              "        vertical-align: middle;\n",
              "    }\n",
              "\n",
              "    .dataframe tbody tr th {\n",
              "        vertical-align: top;\n",
              "    }\n",
              "\n",
              "    .dataframe thead th {\n",
              "        text-align: right;\n",
              "    }\n",
              "</style>\n",
              "<table border=\"1\" class=\"dataframe\">\n",
              "  <thead>\n",
              "    <tr style=\"text-align: right;\">\n",
              "      <th></th>\n",
              "      <th>TIME_PERIOD</th>\n",
              "      <th>OBS_VALUE</th>\n",
              "      <th>OBS_EXCEPTION</th>\n",
              "      <th>OBS_STATUS</th>\n",
              "      <th>OBS_SOURCE</th>\n",
              "      <th>OBS_NOTE</th>\n",
              "      <th>COBER_GEO</th>\n",
              "    </tr>\n",
              "  </thead>\n",
              "  <tbody>\n",
              "    <tr>\n",
              "      <th>0</th>\n",
              "      <td>1995</td>\n",
              "      <td>700973.00000000000000000000</td>\n",
              "      <td>None</td>\n",
              "      <td>3</td>\n",
              "      <td></td>\n",
              "      <td>422</td>\n",
              "      <td>07000019</td>\n",
              "    </tr>\n",
              "    <tr>\n",
              "      <th>1</th>\n",
              "      <td>2000</td>\n",
              "      <td>797564.00000000000000000000</td>\n",
              "      <td>None</td>\n",
              "      <td>3</td>\n",
              "      <td></td>\n",
              "      <td>9</td>\n",
              "      <td>07000019</td>\n",
              "    </tr>\n",
              "    <tr>\n",
              "      <th>2</th>\n",
              "      <td>2005</td>\n",
              "      <td>945767.00000000000000000000</td>\n",
              "      <td>None</td>\n",
              "      <td>3</td>\n",
              "      <td></td>\n",
              "      <td>49</td>\n",
              "      <td>07000019</td>\n",
              "    </tr>\n",
              "    <tr>\n",
              "      <th>3</th>\n",
              "      <td>2010</td>\n",
              "      <td>1139112.00000000000000000000</td>\n",
              "      <td>None</td>\n",
              "      <td>3</td>\n",
              "      <td></td>\n",
              "      <td>115</td>\n",
              "      <td>07000019</td>\n",
              "    </tr>\n",
              "    <tr>\n",
              "      <th>4</th>\n",
              "      <td>2020</td>\n",
              "      <td>1633334.00000000000000000000</td>\n",
              "      <td>None</td>\n",
              "      <td>3</td>\n",
              "      <td></td>\n",
              "      <td></td>\n",
              "      <td>07000019</td>\n",
              "    </tr>\n",
              "  </tbody>\n",
              "</table>\n",
              "</div>"
            ],
            "text/plain": [
              "  TIME_PERIOD                     OBS_VALUE OBS_EXCEPTION OBS_STATUS  \\\n",
              "0        1995   700973.00000000000000000000          None          3   \n",
              "1        2000   797564.00000000000000000000          None          3   \n",
              "2        2005   945767.00000000000000000000          None          3   \n",
              "3        2010  1139112.00000000000000000000          None          3   \n",
              "4        2020  1633334.00000000000000000000          None          3   \n",
              "\n",
              "  OBS_SOURCE OBS_NOTE COBER_GEO  \n",
              "0                 422  07000019  \n",
              "1                   9  07000019  \n",
              "2                  49  07000019  \n",
              "3                 115  07000019  \n",
              "4                      07000019  "
            ]
          },
          "metadata": {},
          "output_type": "display_data"
        }
      ],
      "source": [
        "indicadores = data['Series']\n",
        "for indicador in indicadores:\n",
        "  print(indicador['INDICADOR'])\n",
        "  df = pd.DataFrame.from_dict(indicador['OBSERVATIONS'])\n",
        "  display(df)"
      ]
    },
    {
      "cell_type": "code",
      "execution_count": null,
      "metadata": {
        "id": "N8D_zqsky7Y0"
      },
      "outputs": [],
      "source": [
        "\n"
      ]
    },
    {
      "cell_type": "code",
      "execution_count": null,
      "metadata": {
        "id": "HvO01ff2z2zq"
      },
      "outputs": [],
      "source": []
    },
    {
      "cell_type": "code",
      "execution_count": null,
      "metadata": {
        "id": "DWvY_3e_7Yvl"
      },
      "outputs": [],
      "source": [
        "INDICATOR = [1003000011,1003000017,1003000018,1003000019]"
      ]
    },
    {
      "cell_type": "code",
      "execution_count": null,
      "metadata": {
        "colab": {
          "base_uri": "https://localhost:8080/"
        },
        "id": "NyQ5PWfJfv-Q",
        "outputId": "348b1b4c-7483-4d67-a6e9-b4e8858b0ba9"
      },
      "outputs": [
        {
          "name": "stdout",
          "output_type": "stream",
          "text": [
            "1003000011 , 1003000017 , 1003000018 , 1003000019\n"
          ]
        }
      ],
      "source": [
        "print(INDICATOR[0],\",\",INDICATOR[1],\",\",INDICATOR[2],\",\",INDICATOR[3])"
      ]
    },
    {
      "cell_type": "code",
      "execution_count": null,
      "metadata": {
        "id": "YwIAIMbEgSfi"
      },
      "outputs": [],
      "source": []
    },
    {
      "cell_type": "code",
      "execution_count": null,
      "metadata": {
        "id": "ACrtKtO-gekP"
      },
      "outputs": [],
      "source": []
    },
    {
      "cell_type": "code",
      "execution_count": null,
      "metadata": {
        "id": "7VK8dGvvhe6n"
      },
      "outputs": [],
      "source": []
    }
  ],
  "metadata": {
    "colab": {
      "provenance": []
    },
    "kernelspec": {
      "display_name": "Python 3",
      "name": "python3"
    },
    "language_info": {
      "codemirror_mode": {
        "name": "ipython",
        "version": 3
      },
      "file_extension": ".py",
      "mimetype": "text/x-python",
      "name": "python",
      "nbconvert_exporter": "python",
      "pygments_lexer": "ipython3",
      "version": "3.8.8"
    }
  },
  "nbformat": 4,
  "nbformat_minor": 0
}
